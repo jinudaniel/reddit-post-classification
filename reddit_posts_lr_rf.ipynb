{
  "nbformat": 4,
  "nbformat_minor": 0,
  "metadata": {
    "colab": {
      "name": "reddit_posts_lr_rf.ipynb",
      "provenance": [],
      "collapsed_sections": []
    },
    "kernelspec": {
      "name": "python3",
      "display_name": "Python 3"
    }
  },
  "cells": [
    {
      "cell_type": "markdown",
      "metadata": {
        "id": "l0AlPGKGE-Rr",
        "colab_type": "text"
      },
      "source": [
        "## Basic Machine Learning Models on Redddit Posts.\n",
        "In this notebook we will try to fit some basic machine learning models like Logistc Regression with One vs Rest Classifier as this is a multi class classification problem and Random Forest on the Redddit Texts. I will be making use of TFIDF to get the model working on text data."
      ]
    },
    {
      "cell_type": "code",
      "metadata": {
        "id": "RNytXtuMqniR",
        "colab_type": "code",
        "outputId": "5bc41de4-b929-4dad-8d4f-ece4606fd622",
        "colab": {
          "base_uri": "https://localhost:8080/",
          "height": 122
        }
      },
      "source": [
        "from google.colab import drive\n",
        "drive.mount('/content/drive')"
      ],
      "execution_count": 0,
      "outputs": [
        {
          "output_type": "stream",
          "text": [
            "Go to this URL in a browser: https://accounts.google.com/o/oauth2/auth?client_id=947318989803-6bn6qk8qdgf4n4g3pfee6491hc0brc4i.apps.googleusercontent.com&redirect_uri=urn%3Aietf%3Awg%3Aoauth%3A2.0%3Aoob&scope=email%20https%3A%2F%2Fwww.googleapis.com%2Fauth%2Fdocs.test%20https%3A%2F%2Fwww.googleapis.com%2Fauth%2Fdrive%20https%3A%2F%2Fwww.googleapis.com%2Fauth%2Fdrive.photos.readonly%20https%3A%2F%2Fwww.googleapis.com%2Fauth%2Fpeopleapi.readonly&response_type=code\n",
            "\n",
            "Enter your authorization code:\n",
            "··········\n",
            "Mounted at /content/drive\n"
          ],
          "name": "stdout"
        }
      ]
    },
    {
      "cell_type": "code",
      "metadata": {
        "id": "h2UUR0L_qo9p",
        "colab_type": "code",
        "colab": {}
      },
      "source": [
        "import numpy as np\n",
        "import pandas as pd\n",
        "from sklearn.model_selection import train_test_split\n",
        "from sklearn.feature_extraction.text import TfidfVectorizer\n",
        "from sklearn.linear_model import LogisticRegression\n",
        "from sklearn.multiclass import OneVsRestClassifier\n",
        "from sklearn.ensemble import RandomForestClassifier\n",
        "from sklearn.metrics import accuracy_score, confusion_matrix, precision_recall_fscore_support\n",
        "import matplotlib.pyplot as plt\n",
        "import seaborn as sns\n",
        "%matplotlib inline"
      ],
      "execution_count": 0,
      "outputs": []
    },
    {
      "cell_type": "code",
      "metadata": {
        "id": "IQeh4xw7rUGa",
        "colab_type": "code",
        "outputId": "f9297e5c-080e-415b-a400-37d8b1808d55",
        "colab": {
          "base_uri": "https://localhost:8080/",
          "height": 289
        }
      },
      "source": [
        "df = pd.read_csv('/content/drive/My Drive/Colab Notebooks/clean_reddit_posts.csv')\n",
        "df.head()"
      ],
      "execution_count": 0,
      "outputs": [
        {
          "output_type": "execute_result",
          "data": {
            "text/html": [
              "<div>\n",
              "<style scoped>\n",
              "    .dataframe tbody tr th:only-of-type {\n",
              "        vertical-align: middle;\n",
              "    }\n",
              "\n",
              "    .dataframe tbody tr th {\n",
              "        vertical-align: top;\n",
              "    }\n",
              "\n",
              "    .dataframe thead th {\n",
              "        text-align: right;\n",
              "    }\n",
              "</style>\n",
              "<table border=\"1\" class=\"dataframe\">\n",
              "  <thead>\n",
              "    <tr style=\"text-align: right;\">\n",
              "      <th></th>\n",
              "      <th>Title</th>\n",
              "      <th>Body</th>\n",
              "      <th>SubReddit</th>\n",
              "      <th>Clean_Title</th>\n",
              "      <th>Clean_Body</th>\n",
              "    </tr>\n",
              "  </thead>\n",
              "  <tbody>\n",
              "    <tr>\n",
              "      <th>0</th>\n",
              "      <td>What things about React annoy you the most?</td>\n",
              "      <td>Can be anything: missing features, boilerplate...</td>\n",
              "      <td>reactjs</td>\n",
              "      <td>What things about React annoy you the most</td>\n",
              "      <td>Can be anything missing features boilerplate b...</td>\n",
              "    </tr>\n",
              "    <tr>\n",
              "      <th>1</th>\n",
              "      <td>Tutorial: Building a contacts manager using Vu...</td>\n",
              "      <td>missing</td>\n",
              "      <td>vuejs</td>\n",
              "      <td>Tutorial Building a contacts manager using Vue...</td>\n",
              "      <td>missing</td>\n",
              "    </tr>\n",
              "    <tr>\n",
              "      <th>2</th>\n",
              "      <td>Having trouble deciding what design pattern sh...</td>\n",
              "      <td>The structure of my project is the following:\\...</td>\n",
              "      <td>vuejs</td>\n",
              "      <td>Having trouble deciding what design pattern sh...</td>\n",
              "      <td>The structure of my project is the following A...</td>\n",
              "    </tr>\n",
              "    <tr>\n",
              "      <th>3</th>\n",
              "      <td>Prettier rule for this?</td>\n",
              "      <td>I use Prettier and the auto format on save opt...</td>\n",
              "      <td>reactjs</td>\n",
              "      <td>Prettier rule for this</td>\n",
              "      <td>I use Prettier and the auto format on save opt...</td>\n",
              "    </tr>\n",
              "    <tr>\n",
              "      <th>4</th>\n",
              "      <td>Conditional Rendering in Vue JS - Beginner Tut...</td>\n",
              "      <td>missing</td>\n",
              "      <td>vuejs</td>\n",
              "      <td>Conditional Rendering in Vue JS Beginner Tutorial</td>\n",
              "      <td>missing</td>\n",
              "    </tr>\n",
              "  </tbody>\n",
              "</table>\n",
              "</div>"
            ],
            "text/plain": [
              "                                               Title  ...                                         Clean_Body\n",
              "0        What things about React annoy you the most?  ...  Can be anything missing features boilerplate b...\n",
              "1  Tutorial: Building a contacts manager using Vu...  ...                                            missing\n",
              "2  Having trouble deciding what design pattern sh...  ...  The structure of my project is the following A...\n",
              "3                            Prettier rule for this?  ...  I use Prettier and the auto format on save opt...\n",
              "4  Conditional Rendering in Vue JS - Beginner Tut...  ...                                            missing\n",
              "\n",
              "[5 rows x 5 columns]"
            ]
          },
          "metadata": {
            "tags": []
          },
          "execution_count": 3
        }
      ]
    },
    {
      "cell_type": "code",
      "metadata": {
        "id": "xcFGHztCrago",
        "colab_type": "code",
        "outputId": "70e7aba6-108f-4a64-a6a1-e01f97f84336",
        "colab": {
          "base_uri": "https://localhost:8080/",
          "height": 204
        }
      },
      "source": [
        "df = df.loc[:, ['Clean_Title', 'Clean_Body', 'SubReddit']]\n",
        "df.head()"
      ],
      "execution_count": 0,
      "outputs": [
        {
          "output_type": "execute_result",
          "data": {
            "text/html": [
              "<div>\n",
              "<style scoped>\n",
              "    .dataframe tbody tr th:only-of-type {\n",
              "        vertical-align: middle;\n",
              "    }\n",
              "\n",
              "    .dataframe tbody tr th {\n",
              "        vertical-align: top;\n",
              "    }\n",
              "\n",
              "    .dataframe thead th {\n",
              "        text-align: right;\n",
              "    }\n",
              "</style>\n",
              "<table border=\"1\" class=\"dataframe\">\n",
              "  <thead>\n",
              "    <tr style=\"text-align: right;\">\n",
              "      <th></th>\n",
              "      <th>Clean_Title</th>\n",
              "      <th>Clean_Body</th>\n",
              "      <th>SubReddit</th>\n",
              "    </tr>\n",
              "  </thead>\n",
              "  <tbody>\n",
              "    <tr>\n",
              "      <th>0</th>\n",
              "      <td>What things about React annoy you the most</td>\n",
              "      <td>Can be anything missing features boilerplate b...</td>\n",
              "      <td>reactjs</td>\n",
              "    </tr>\n",
              "    <tr>\n",
              "      <th>1</th>\n",
              "      <td>Tutorial Building a contacts manager using Vue...</td>\n",
              "      <td>missing</td>\n",
              "      <td>vuejs</td>\n",
              "    </tr>\n",
              "    <tr>\n",
              "      <th>2</th>\n",
              "      <td>Having trouble deciding what design pattern sh...</td>\n",
              "      <td>The structure of my project is the following A...</td>\n",
              "      <td>vuejs</td>\n",
              "    </tr>\n",
              "    <tr>\n",
              "      <th>3</th>\n",
              "      <td>Prettier rule for this</td>\n",
              "      <td>I use Prettier and the auto format on save opt...</td>\n",
              "      <td>reactjs</td>\n",
              "    </tr>\n",
              "    <tr>\n",
              "      <th>4</th>\n",
              "      <td>Conditional Rendering in Vue JS Beginner Tutorial</td>\n",
              "      <td>missing</td>\n",
              "      <td>vuejs</td>\n",
              "    </tr>\n",
              "  </tbody>\n",
              "</table>\n",
              "</div>"
            ],
            "text/plain": [
              "                                         Clean_Title  ... SubReddit\n",
              "0         What things about React annoy you the most  ...   reactjs\n",
              "1  Tutorial Building a contacts manager using Vue...  ...     vuejs\n",
              "2  Having trouble deciding what design pattern sh...  ...     vuejs\n",
              "3                             Prettier rule for this  ...   reactjs\n",
              "4  Conditional Rendering in Vue JS Beginner Tutorial  ...     vuejs\n",
              "\n",
              "[5 rows x 3 columns]"
            ]
          },
          "metadata": {
            "tags": []
          },
          "execution_count": 4
        }
      ]
    },
    {
      "cell_type": "code",
      "metadata": {
        "id": "QRbZGhsGreQS",
        "colab_type": "code",
        "colab": {}
      },
      "source": [
        "df['Text'] = df['Clean_Title'] + ' ' + df['Clean_Body']"
      ],
      "execution_count": 0,
      "outputs": []
    },
    {
      "cell_type": "code",
      "metadata": {
        "id": "7rg-LvLRrtQ3",
        "colab_type": "code",
        "outputId": "550bbd18-4d43-4b85-82d0-68df03b88b4b",
        "colab": {
          "base_uri": "https://localhost:8080/",
          "height": 85
        }
      },
      "source": [
        "subreddit = {\n",
        "    'reactjs': 0,\n",
        "    'angular': 1,\n",
        "    'vuejs': 2\n",
        "}\n",
        "\n",
        "df['SubReddit'] = df['SubReddit'].map(subreddit)\n",
        "df['SubReddit'].value_counts(dropna=False)"
      ],
      "execution_count": 0,
      "outputs": [
        {
          "output_type": "execute_result",
          "data": {
            "text/plain": [
              "1    993\n",
              "0    953\n",
              "2    871\n",
              "Name: SubReddit, dtype: int64"
            ]
          },
          "metadata": {
            "tags": []
          },
          "execution_count": 6
        }
      ]
    },
    {
      "cell_type": "code",
      "metadata": {
        "id": "4N-c28oLsvzd",
        "colab_type": "code",
        "colab": {}
      },
      "source": [
        "df['Text'] = df['Text'].fillna('missing')"
      ],
      "execution_count": 0,
      "outputs": []
    },
    {
      "cell_type": "code",
      "metadata": {
        "id": "tKVRpf2UsKh3",
        "colab_type": "code",
        "outputId": "abdda390-742b-4af2-c2d2-fd22c27e4e39",
        "colab": {
          "base_uri": "https://localhost:8080/",
          "height": 51
        }
      },
      "source": [
        "X_train, X_test, y_train, y_test = train_test_split(df['Text'], df['SubReddit'], test_size=0.2, random_state=42)\n",
        "print(X_train.shape)\n",
        "print(X_test.shape)"
      ],
      "execution_count": 0,
      "outputs": [
        {
          "output_type": "stream",
          "text": [
            "(2253,)\n",
            "(564,)\n"
          ],
          "name": "stdout"
        }
      ]
    },
    {
      "cell_type": "code",
      "metadata": {
        "id": "MugYesBHsbcA",
        "colab_type": "code",
        "colab": {}
      },
      "source": [
        "word_vectorizer = TfidfVectorizer(\n",
        "    sublinear_tf=True,\n",
        "    strip_accents='unicode',\n",
        "    analyzer='word',\n",
        "    token_pattern=r'\\w{1,}',\n",
        "    stop_words='english',\n",
        "    ngram_range=(1, 1),\n",
        "    max_features=10000)\n",
        "\n",
        "word_vectorizer.fit(df['Text'])\n",
        "train_word_features = word_vectorizer.transform(X_train)\n",
        "test_word_features = word_vectorizer.transform(X_test)"
      ],
      "execution_count": 0,
      "outputs": []
    },
    {
      "cell_type": "code",
      "metadata": {
        "id": "MD2uwGm-slmJ",
        "colab_type": "code",
        "outputId": "80b04db0-3100-4748-9b53-ea3dc3c4c113",
        "colab": {
          "base_uri": "https://localhost:8080/",
          "height": 187
        }
      },
      "source": [
        "classifier = OneVsRestClassifier(LogisticRegression(class_weight = \"balanced\", C=0.5, solver='sag'))\n",
        "classifier.fit(train_word_features, y_train)"
      ],
      "execution_count": 0,
      "outputs": [
        {
          "output_type": "execute_result",
          "data": {
            "text/plain": [
              "OneVsRestClassifier(estimator=LogisticRegression(C=0.5, class_weight='balanced',\n",
              "                                                 dual=False, fit_intercept=True,\n",
              "                                                 intercept_scaling=1,\n",
              "                                                 l1_ratio=None, max_iter=100,\n",
              "                                                 multi_class='warn',\n",
              "                                                 n_jobs=None, penalty='l2',\n",
              "                                                 random_state=None,\n",
              "                                                 solver='sag', tol=0.0001,\n",
              "                                                 verbose=0, warm_start=False),\n",
              "                    n_jobs=None)"
            ]
          },
          "metadata": {
            "tags": []
          },
          "execution_count": 10
        }
      ]
    },
    {
      "cell_type": "code",
      "metadata": {
        "id": "_xGFLckwtIde",
        "colab_type": "code",
        "outputId": "de31f31e-259a-4dec-f879-fa0fe3b02b1f",
        "colab": {
          "base_uri": "https://localhost:8080/",
          "height": 34
        }
      },
      "source": [
        "y_pred_ovr = classifier.predict(test_word_features)\n",
        "print(accuracy_score(y_test, y_pred_ovr))"
      ],
      "execution_count": 0,
      "outputs": [
        {
          "output_type": "stream",
          "text": [
            "0.8812056737588653\n"
          ],
          "name": "stdout"
        }
      ]
    },
    {
      "cell_type": "code",
      "metadata": {
        "id": "0CCLrfXJtRuY",
        "colab_type": "code",
        "outputId": "e2e538c2-38b0-413e-bd62-6b1e00b7c6f7",
        "colab": {
          "base_uri": "https://localhost:8080/",
          "height": 136
        }
      },
      "source": [
        "rf = RandomForestClassifier(n_estimators=100, max_depth=None, random_state=0)\n",
        "rf.fit(train_word_features, y_train)"
      ],
      "execution_count": 0,
      "outputs": [
        {
          "output_type": "execute_result",
          "data": {
            "text/plain": [
              "RandomForestClassifier(bootstrap=True, class_weight=None, criterion='gini',\n",
              "                       max_depth=None, max_features='auto', max_leaf_nodes=None,\n",
              "                       min_impurity_decrease=0.0, min_impurity_split=None,\n",
              "                       min_samples_leaf=1, min_samples_split=2,\n",
              "                       min_weight_fraction_leaf=0.0, n_estimators=100,\n",
              "                       n_jobs=None, oob_score=False, random_state=0, verbose=0,\n",
              "                       warm_start=False)"
            ]
          },
          "metadata": {
            "tags": []
          },
          "execution_count": 12
        }
      ]
    },
    {
      "cell_type": "code",
      "metadata": {
        "id": "KT7jjAQHtofR",
        "colab_type": "code",
        "outputId": "1f236132-b0f2-42cf-dd48-ae90f906205b",
        "colab": {
          "base_uri": "https://localhost:8080/",
          "height": 34
        }
      },
      "source": [
        "y_pred_rf = rf.predict(test_word_features)\n",
        "print(accuracy_score(y_test, y_pred_rf))"
      ],
      "execution_count": 0,
      "outputs": [
        {
          "output_type": "stream",
          "text": [
            "0.8652482269503546\n"
          ],
          "name": "stdout"
        }
      ]
    },
    {
      "cell_type": "code",
      "metadata": {
        "id": "UPQkxsbMtwIw",
        "colab_type": "code",
        "outputId": "aa98b1dd-4a6d-4b5a-f237-398f5f69e28e",
        "colab": {
          "base_uri": "https://localhost:8080/",
          "height": 365
        }
      },
      "source": [
        "\n",
        "# Creates a confusion matrix\n",
        "cm = confusion_matrix(y_test, y_pred_ovr) \n",
        "\n",
        "# Transform to df for easier plotting\n",
        "cm_df = pd.DataFrame(cm,\n",
        "                     index = ['React','Angular','Vue'], \n",
        "                     columns = ['React','Angular','Vue'])\n",
        "\n",
        "plt.figure(figsize=(8,5))\n",
        "sns.heatmap(cm_df, annot=True, fmt=\"d\")\n",
        "plt.title('One vs Rest Logistic Regression \\nAccuracy:{0:.3f}'.format(accuracy_score(y_test, y_pred_ovr)))\n",
        "plt.ylabel('True label')\n",
        "plt.xlabel('Predicted label')\n",
        "plt.show()"
      ],
      "execution_count": 0,
      "outputs": [
        {
          "output_type": "display_data",
          "data": {
            "image/png": "[encoded data removed]",
            "text/plain": [
              "<Figure size 576x360 with 2 Axes>"
            ]
          },
          "metadata": {
            "tags": []
          }
        }
      ]
    },
    {
      "cell_type": "code",
      "metadata": {
        "id": "3y4X62dTx44R",
        "colab_type": "code",
        "outputId": "4cbdb9cf-7a08-41cb-88e8-bbc6c3ebf2f2",
        "colab": {
          "base_uri": "https://localhost:8080/",
          "height": 365
        }
      },
      "source": [
        "# Creates a confusion matrix\n",
        "cm = confusion_matrix(y_test, y_pred_rf) \n",
        "\n",
        "# Transform to df for easier plotting\n",
        "cm_df = pd.DataFrame(cm,\n",
        "                     index = ['React','Angular','Vue'], \n",
        "                     columns = ['React','Angular','Vue'])\n",
        "\n",
        "plt.figure(figsize=(8,5))\n",
        "sns.heatmap(cm_df, annot=True, fmt=\"d\")\n",
        "plt.title('Random Forest Classifier \\nAccuracy:{0:.3f}'.format(accuracy_score(y_test, y_pred_rf)))\n",
        "plt.ylabel('True label')\n",
        "plt.xlabel('Predicted label')\n",
        "plt.show()"
      ],
      "execution_count": 0,
      "outputs": [
        {
          "output_type": "display_data",
          "data": {
            "image/png": "[encoded data removed]",
            "text/plain": [
              "<Figure size 576x360 with 2 Axes>"
            ]
          },
          "metadata": {
            "tags": []
          }
        }
      ]
    },
    {
      "cell_type": "code",
      "metadata": {
        "id": "Ozde9QQPy_B7",
        "colab_type": "code",
        "colab": {}
      },
      "source": [
        ""
      ],
      "execution_count": 0,
      "outputs": []
    }
  ]
}